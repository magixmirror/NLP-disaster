{
  "cells": [
    {
      "cell_type": "markdown",
      "metadata": {
        "id": "view-in-github",
        "colab_type": "text"
      },
      "source": [
        "<a href=\"https://colab.research.google.com/github/EmranAljawarneh/NLPDisasterTweets/blob/main/nlp_with_disaster_tweets_using_lstm_model.ipynb\" target=\"_parent\"><img src=\"https://colab.research.google.com/assets/colab-badge.svg\" alt=\"Open In Colab\"/></a>"
      ]
    },
    {
      "cell_type": "markdown",
      "id": "bdf21ad6",
      "metadata": {
        "papermill": {
          "duration": 0.0097,
          "end_time": "2023-02-08T22:38:45.997496",
          "exception": false,
          "start_time": "2023-02-08T22:38:45.987796",
          "status": "completed"
        },
        "tags": [],
        "id": "bdf21ad6"
      },
      "source": [
        "# Natural Language Processing with Disaster Tweets\n",
        "\n",
        "This notebbok tried to build a deep learning model that predicts which Tweets are about real disasters and which one’s aren’t. To build this model, we should prepared the data to be suitable for the model to give the best possible results.\n",
        "In this notebook, we used the Long Short-Term Memory (LSTM) deep learning which considers type of Recurrent Neural Network (RNN) deep learning model."
      ]
    },
    {
      "cell_type": "markdown",
      "id": "5a723cfe",
      "metadata": {
        "papermill": {
          "duration": 0.007751,
          "end_time": "2023-02-08T22:38:46.014136",
          "exception": false,
          "start_time": "2023-02-08T22:38:46.006385",
          "status": "completed"
        },
        "tags": [],
        "id": "5a723cfe"
      },
      "source": [
        "## Import Libraries"
      ]
    },
    {
      "cell_type": "code",
      "execution_count": null,
      "id": "5b2337b2",
      "metadata": {
        "execution": {
          "iopub.execute_input": "2023-02-08T22:38:46.032971Z",
          "iopub.status.busy": "2023-02-08T22:38:46.032032Z",
          "iopub.status.idle": "2023-02-08T22:38:48.742907Z",
          "shell.execute_reply": "2023-02-08T22:38:48.741366Z"
        },
        "papermill": {
          "duration": 2.724216,
          "end_time": "2023-02-08T22:38:48.746607",
          "exception": false,
          "start_time": "2023-02-08T22:38:46.022391",
          "status": "completed"
        },
        "tags": [],
        "id": "5b2337b2",
        "outputId": "21501eef-8c13-458d-c26d-e5a00b3d7e86"
      },
      "outputs": [
        {
          "name": "stderr",
          "output_type": "stream",
          "text": [
            "[nltk_data] Downloading package punkt to /usr/share/nltk_data...\n",
            "[nltk_data]   Package punkt is already up-to-date!\n",
            "[nltk_data] Downloading package stopwords to /usr/share/nltk_data...\n",
            "[nltk_data]   Package stopwords is already up-to-date!\n",
            "[nltk_data] Downloading package wordnet to /usr/share/nltk_data...\n",
            "[nltk_data]   Package wordnet is already up-to-date!\n",
            "[nltk_data] Downloading package omw-1.4 to /usr/share/nltk_data...\n"
          ]
        }
      ],
      "source": [
        "# Import Libraries\n",
        "import pandas as pd\n",
        "import numpy as np\n",
        "import string, nltk\n",
        "import re\n",
        "from nltk.tokenize import word_tokenize\n",
        "punct = nltk.download('punkt')\n",
        "nltk.download('stopwords')\n",
        "nltk.download('wordnet')\n",
        "from nltk.corpus import stopwords\n",
        "stop_words = set(stopwords.words(\"english\"))\n",
        "nltk.download('omw-1.4')\n",
        "from nltk.stem import WordNetLemmatizer, PorterStemmer\n",
        "lemma=WordNetLemmatizer()\n",
        "stemm = PorterStemmer()\n",
        "from nltk.tokenize import WordPunctTokenizer\n",
        "tokenize = WordPunctTokenizer()\n",
        "\n",
        "from sklearn.metrics import accuracy_score, precision_score, recall_score, classification_report"
      ]
    },
    {
      "cell_type": "code",
      "execution_count": null,
      "id": "b94409b5",
      "metadata": {
        "execution": {
          "iopub.execute_input": "2023-02-08T22:38:48.766502Z",
          "iopub.status.busy": "2023-02-08T22:38:48.766000Z",
          "iopub.status.idle": "2023-02-08T22:38:48.831401Z",
          "shell.execute_reply": "2023-02-08T22:38:48.829910Z"
        },
        "papermill": {
          "duration": 0.078834,
          "end_time": "2023-02-08T22:38:48.834287",
          "exception": false,
          "start_time": "2023-02-08T22:38:48.755453",
          "status": "completed"
        },
        "tags": [],
        "id": "b94409b5",
        "outputId": "c1a917e2-57b6-4378-81ca-c621a5f0de45"
      },
      "outputs": [
        {
          "name": "stdout",
          "output_type": "stream",
          "text": [
            "   id keyword location                                               text  \\\n",
            "0   1     NaN      NaN  Our Deeds are the Reason of this #earthquake M...   \n",
            "1   4     NaN      NaN             Forest fire near La Ronge Sask. Canada   \n",
            "2   5     NaN      NaN  All residents asked to 'shelter in place' are ...   \n",
            "3   6     NaN      NaN  13,000 people receive #wildfires evacuation or...   \n",
            "4   7     NaN      NaN  Just got sent this photo from Ruby #Alaska as ...   \n",
            "\n",
            "   target  \n",
            "0       1  \n",
            "1       1  \n",
            "2       1  \n",
            "3       1  \n",
            "4       1  \n"
          ]
        }
      ],
      "source": [
        "# Read Dataset\n",
        "read_data = pd.read_csv(\"/kaggle/input/nlp-getting-started/train.csv\")\n",
        "print(read_data.head())"
      ]
    },
    {
      "cell_type": "markdown",
      "id": "83f3e9c4",
      "metadata": {
        "papermill": {
          "duration": 0.008007,
          "end_time": "2023-02-08T22:38:48.851195",
          "exception": false,
          "start_time": "2023-02-08T22:38:48.843188",
          "status": "completed"
        },
        "tags": [],
        "id": "83f3e9c4"
      },
      "source": [
        "In this task we need just two features from the whole dataset; text and target. So, we will drop the remain features; id, keyword, and location."
      ]
    },
    {
      "cell_type": "code",
      "execution_count": null,
      "id": "7766da8c",
      "metadata": {
        "execution": {
          "iopub.execute_input": "2023-02-08T22:38:48.870159Z",
          "iopub.status.busy": "2023-02-08T22:38:48.869715Z",
          "iopub.status.idle": "2023-02-08T22:38:48.900124Z",
          "shell.execute_reply": "2023-02-08T22:38:48.898700Z"
        },
        "papermill": {
          "duration": 0.043083,
          "end_time": "2023-02-08T22:38:48.903082",
          "exception": false,
          "start_time": "2023-02-08T22:38:48.859999",
          "status": "completed"
        },
        "tags": [],
        "id": "7766da8c",
        "outputId": "2f75f590-569c-4557-9506-52d89729e64e"
      },
      "outputs": [
        {
          "data": {
            "text/html": [
              "<div>\n",
              "<style scoped>\n",
              "    .dataframe tbody tr th:only-of-type {\n",
              "        vertical-align: middle;\n",
              "    }\n",
              "\n",
              "    .dataframe tbody tr th {\n",
              "        vertical-align: top;\n",
              "    }\n",
              "\n",
              "    .dataframe thead th {\n",
              "        text-align: right;\n",
              "    }\n",
              "</style>\n",
              "<table border=\"1\" class=\"dataframe\">\n",
              "  <thead>\n",
              "    <tr style=\"text-align: right;\">\n",
              "      <th></th>\n",
              "      <th>text</th>\n",
              "      <th>target</th>\n",
              "    </tr>\n",
              "  </thead>\n",
              "  <tbody>\n",
              "    <tr>\n",
              "      <th>0</th>\n",
              "      <td>Our Deeds are the Reason of this #earthquake M...</td>\n",
              "      <td>1</td>\n",
              "    </tr>\n",
              "    <tr>\n",
              "      <th>1</th>\n",
              "      <td>Forest fire near La Ronge Sask. Canada</td>\n",
              "      <td>1</td>\n",
              "    </tr>\n",
              "    <tr>\n",
              "      <th>2</th>\n",
              "      <td>All residents asked to 'shelter in place' are ...</td>\n",
              "      <td>1</td>\n",
              "    </tr>\n",
              "    <tr>\n",
              "      <th>3</th>\n",
              "      <td>13,000 people receive #wildfires evacuation or...</td>\n",
              "      <td>1</td>\n",
              "    </tr>\n",
              "    <tr>\n",
              "      <th>4</th>\n",
              "      <td>Just got sent this photo from Ruby #Alaska as ...</td>\n",
              "      <td>1</td>\n",
              "    </tr>\n",
              "    <tr>\n",
              "      <th>...</th>\n",
              "      <td>...</td>\n",
              "      <td>...</td>\n",
              "    </tr>\n",
              "    <tr>\n",
              "      <th>7608</th>\n",
              "      <td>Two giant cranes holding a bridge collapse int...</td>\n",
              "      <td>1</td>\n",
              "    </tr>\n",
              "    <tr>\n",
              "      <th>7609</th>\n",
              "      <td>@aria_ahrary @TheTawniest The out of control w...</td>\n",
              "      <td>1</td>\n",
              "    </tr>\n",
              "    <tr>\n",
              "      <th>7610</th>\n",
              "      <td>M1.94 [01:04 UTC]?5km S of Volcano Hawaii. htt...</td>\n",
              "      <td>1</td>\n",
              "    </tr>\n",
              "    <tr>\n",
              "      <th>7611</th>\n",
              "      <td>Police investigating after an e-bike collided ...</td>\n",
              "      <td>1</td>\n",
              "    </tr>\n",
              "    <tr>\n",
              "      <th>7612</th>\n",
              "      <td>The Latest: More Homes Razed by Northern Calif...</td>\n",
              "      <td>1</td>\n",
              "    </tr>\n",
              "  </tbody>\n",
              "</table>\n",
              "<p>7613 rows × 2 columns</p>\n",
              "</div>"
            ],
            "text/plain": [
              "                                                   text  target\n",
              "0     Our Deeds are the Reason of this #earthquake M...       1\n",
              "1                Forest fire near La Ronge Sask. Canada       1\n",
              "2     All residents asked to 'shelter in place' are ...       1\n",
              "3     13,000 people receive #wildfires evacuation or...       1\n",
              "4     Just got sent this photo from Ruby #Alaska as ...       1\n",
              "...                                                 ...     ...\n",
              "7608  Two giant cranes holding a bridge collapse int...       1\n",
              "7609  @aria_ahrary @TheTawniest The out of control w...       1\n",
              "7610  M1.94 [01:04 UTC]?5km S of Volcano Hawaii. htt...       1\n",
              "7611  Police investigating after an e-bike collided ...       1\n",
              "7612  The Latest: More Homes Razed by Northern Calif...       1\n",
              "\n",
              "[7613 rows x 2 columns]"
            ]
          },
          "execution_count": 3,
          "metadata": {},
          "output_type": "execute_result"
        }
      ],
      "source": [
        "data = read_data.drop(['id', 'keyword', 'location'], axis=1)\n",
        "data"
      ]
    },
    {
      "cell_type": "markdown",
      "id": "5c988488",
      "metadata": {
        "papermill": {
          "duration": 0.008316,
          "end_time": "2023-02-08T22:38:48.920671",
          "exception": false,
          "start_time": "2023-02-08T22:38:48.912355",
          "status": "completed"
        },
        "tags": [],
        "id": "5c988488"
      },
      "source": [
        "We should check the null values and remove the duplicated values that exists in the data."
      ]
    },
    {
      "cell_type": "code",
      "execution_count": null,
      "id": "e5517735",
      "metadata": {
        "execution": {
          "iopub.execute_input": "2023-02-08T22:38:48.941210Z",
          "iopub.status.busy": "2023-02-08T22:38:48.940739Z",
          "iopub.status.idle": "2023-02-08T22:38:48.957807Z",
          "shell.execute_reply": "2023-02-08T22:38:48.956657Z"
        },
        "papermill": {
          "duration": 0.029689,
          "end_time": "2023-02-08T22:38:48.960581",
          "exception": false,
          "start_time": "2023-02-08T22:38:48.930892",
          "status": "completed"
        },
        "tags": [],
        "id": "e5517735"
      },
      "outputs": [],
      "source": [
        "data.isnull().sum()\n",
        "data = data.drop_duplicates()"
      ]
    },
    {
      "cell_type": "markdown",
      "id": "f60f3801",
      "metadata": {
        "papermill": {
          "duration": 0.008238,
          "end_time": "2023-02-08T22:38:48.978536",
          "exception": false,
          "start_time": "2023-02-08T22:38:48.970298",
          "status": "completed"
        },
        "tags": [],
        "id": "f60f3801"
      },
      "source": [
        "We need to split the text and the target features to deal with the text data in the preprocessing phase."
      ]
    },
    {
      "cell_type": "code",
      "execution_count": null,
      "id": "f12de4a3",
      "metadata": {
        "execution": {
          "iopub.execute_input": "2023-02-08T22:38:48.998734Z",
          "iopub.status.busy": "2023-02-08T22:38:48.998222Z",
          "iopub.status.idle": "2023-02-08T22:38:49.008530Z",
          "shell.execute_reply": "2023-02-08T22:38:49.006477Z"
        },
        "papermill": {
          "duration": 0.023332,
          "end_time": "2023-02-08T22:38:49.011470",
          "exception": false,
          "start_time": "2023-02-08T22:38:48.988138",
          "status": "completed"
        },
        "tags": [],
        "id": "f12de4a3",
        "outputId": "f8f54d28-ea30-4af8-d78d-bcf62e2eb249"
      },
      "outputs": [
        {
          "name": "stdout",
          "output_type": "stream",
          "text": [
            "(7521,)\n",
            "(7521, 1)\n"
          ]
        }
      ],
      "source": [
        "label_data = data.drop(['text'], axis=1)\n",
        "train_data = data['text']\n",
        "print(train_data.shape)\n",
        "print(label_data.shape)"
      ]
    },
    {
      "cell_type": "markdown",
      "id": "9d18179f",
      "metadata": {
        "papermill": {
          "duration": 0.008333,
          "end_time": "2023-02-08T22:38:49.028651",
          "exception": false,
          "start_time": "2023-02-08T22:38:49.020318",
          "status": "completed"
        },
        "tags": [],
        "id": "9d18179f"
      },
      "source": [
        "# Clean Data\n",
        "Here, we will the data and process it to be suitable for the model building.\n",
        "The preprocess steps are as follows:\n",
        "1. Convert the whole data into lower case.\n",
        "2. Remove numbers, html tags, urls, and punctuations.\n",
        "3. Tokenize the text using Word Tokenize function.\n",
        "4. Remove all stop words from the data.\n",
        "5. Retrieve the text into their base form using the stemming and lemmatization function."
      ]
    },
    {
      "cell_type": "code",
      "execution_count": null,
      "id": "fa25d4b7",
      "metadata": {
        "execution": {
          "iopub.execute_input": "2023-02-08T22:38:49.047745Z",
          "iopub.status.busy": "2023-02-08T22:38:49.047247Z",
          "iopub.status.idle": "2023-02-08T22:38:49.058064Z",
          "shell.execute_reply": "2023-02-08T22:38:49.056766Z"
        },
        "papermill": {
          "duration": 0.023562,
          "end_time": "2023-02-08T22:38:49.060748",
          "exception": false,
          "start_time": "2023-02-08T22:38:49.037186",
          "status": "completed"
        },
        "tags": [],
        "id": "fa25d4b7"
      },
      "outputs": [],
      "source": [
        "def lower(text):\n",
        "  return str(text.lower())\n",
        "\n",
        "def remove_numbers(text):\n",
        "  return re.sub('\\d+', '', text)\n",
        "\n",
        "def remove_html_tags(text):\n",
        "  return re.sub('\\[.*?\\]', '', text)\n",
        "\n",
        "def remove_url(text):\n",
        "  return re.sub('https?://\\S+|www\\.\\S+', '', text)\n",
        "\n",
        "def remove_punctuations(text):\n",
        "  return re.sub('[%s]' % re.escape(string.punctuation),'',text)\n",
        "\n",
        "def remove_stop_words(text):\n",
        "  return ' '.join([word for word in text if word.lower() not in stop_words])\n",
        "\n",
        "def lemmatize_data(text):\n",
        "  text = ' '.join(stemm.stem(word) for word in text.split(' '))\n",
        "  text = ' '.join(lemma.lemmatize(word) for word in text.split(' '))\n",
        "  return text\n",
        "\n",
        "def wordTokenize(text):\n",
        "  text = tokenize.tokenize(text)\n",
        "  return text"
      ]
    },
    {
      "cell_type": "markdown",
      "id": "a87b7d19",
      "metadata": {
        "papermill": {
          "duration": 0.009,
          "end_time": "2023-02-08T22:38:49.078362",
          "exception": false,
          "start_time": "2023-02-08T22:38:49.069362",
          "status": "completed"
        },
        "tags": [],
        "id": "a87b7d19"
      },
      "source": [
        "This cell will how we call the above functions."
      ]
    },
    {
      "cell_type": "code",
      "execution_count": null,
      "id": "e35326f4",
      "metadata": {
        "execution": {
          "iopub.execute_input": "2023-02-08T22:38:49.097810Z",
          "iopub.status.busy": "2023-02-08T22:38:49.097369Z",
          "iopub.status.idle": "2023-02-08T22:38:53.901993Z",
          "shell.execute_reply": "2023-02-08T22:38:53.900617Z"
        },
        "papermill": {
          "duration": 4.817532,
          "end_time": "2023-02-08T22:38:53.904785",
          "exception": false,
          "start_time": "2023-02-08T22:38:49.087253",
          "status": "completed"
        },
        "tags": [],
        "id": "e35326f4",
        "outputId": "0112a115-1218-4a1d-ac08-a8b006290134"
      },
      "outputs": [
        {
          "data": {
            "text/plain": [
              "0                deed reason earthquak may allah forgiv u\n",
              "1                    forest fire near la rong sask canada\n",
              "2       resid ask shelter place notifi offic evacu she...\n",
              "3             peopl receiv wildfir evacu order california\n",
              "4       got sent photo rubi alaska smoke wildfir pour ...\n",
              "                              ...                        \n",
              "7604    worldnew fallen powerlin glink tram updat fire...\n",
              "7605    flip side im walmart bomb everyon evacu stay t...\n",
              "7606    suicid bomber kill saudi secur site mosqu reut...\n",
              "7608       two giant crane hold bridg collaps nearbi home\n",
              "7612    latest home raze northern california wildfir a...\n",
              "Name: text, Length: 7521, dtype: object"
            ]
          },
          "execution_count": 7,
          "metadata": {},
          "output_type": "execute_result"
        }
      ],
      "source": [
        "def preprocess(text):\n",
        "  text = lower(text)\n",
        "  text = remove_numbers(text)\n",
        "  text = remove_html_tags(text)\n",
        "  text = remove_url(text)\n",
        "  text = remove_punctuations(text)\n",
        "  text = wordTokenize(text)\n",
        "  text = remove_stop_words(text)\n",
        "  text = lemmatize_data(text)\n",
        "  return text\n",
        "\n",
        "train_data = train_data.apply(preprocess)\n",
        "train_data"
      ]
    },
    {
      "cell_type": "markdown",
      "id": "84ae3c1e",
      "metadata": {
        "papermill": {
          "duration": 0.008348,
          "end_time": "2023-02-08T22:38:53.922064",
          "exception": false,
          "start_time": "2023-02-08T22:38:53.913716",
          "status": "completed"
        },
        "tags": [],
        "id": "84ae3c1e"
      },
      "source": [
        "# LSTM Model"
      ]
    },
    {
      "cell_type": "code",
      "execution_count": null,
      "id": "26cd9109",
      "metadata": {
        "execution": {
          "iopub.execute_input": "2023-02-08T22:38:53.942063Z",
          "iopub.status.busy": "2023-02-08T22:38:53.941591Z",
          "iopub.status.idle": "2023-02-08T22:39:01.126463Z",
          "shell.execute_reply": "2023-02-08T22:39:01.125000Z"
        },
        "papermill": {
          "duration": 7.198422,
          "end_time": "2023-02-08T22:39:01.129217",
          "exception": false,
          "start_time": "2023-02-08T22:38:53.930795",
          "status": "completed"
        },
        "tags": [],
        "id": "26cd9109"
      },
      "outputs": [],
      "source": [
        "from keras.preprocessing.text import Tokenizer\n",
        "from keras.preprocessing.sequence import pad_sequences\n",
        "\n",
        "# Tokenize the texts\n",
        "max_features=3000\n",
        "tokenizer=Tokenizer(num_words=max_features,split=' ')\n",
        "tokenizer.fit_on_texts(train_data.values)     # convert text into numerical data\n",
        "X = tokenizer.texts_to_sequences(train_data.values)\n",
        "X = pad_sequences(X)      # make the whole input text data on the same size."
      ]
    },
    {
      "cell_type": "code",
      "execution_count": null,
      "id": "cb769163",
      "metadata": {
        "execution": {
          "iopub.execute_input": "2023-02-08T22:39:01.149376Z",
          "iopub.status.busy": "2023-02-08T22:39:01.148564Z",
          "iopub.status.idle": "2023-02-08T22:39:01.156857Z",
          "shell.execute_reply": "2023-02-08T22:39:01.155900Z"
        },
        "papermill": {
          "duration": 0.021002,
          "end_time": "2023-02-08T22:39:01.159014",
          "exception": false,
          "start_time": "2023-02-08T22:39:01.138012",
          "status": "completed"
        },
        "tags": [],
        "id": "cb769163",
        "outputId": "6022ee09-d052-4a54-f84c-28a125875520"
      },
      "outputs": [
        {
          "data": {
            "text/plain": [
              "['interest god car amaz peopl']"
            ]
          },
          "execution_count": 9,
          "metadata": {},
          "output_type": "execute_result"
        }
      ],
      "source": [
        "tokenizer.sequences_to_texts([[ 713,  154,   56, 1434,   14]])"
      ]
    },
    {
      "cell_type": "markdown",
      "id": "63eb6ae9",
      "metadata": {
        "papermill": {
          "duration": 0.008406,
          "end_time": "2023-02-08T22:39:01.176131",
          "exception": false,
          "start_time": "2023-02-08T22:39:01.167725",
          "status": "completed"
        },
        "tags": [],
        "id": "63eb6ae9"
      },
      "source": [
        "# Split the Data\n",
        "To split the data, we used the train_test_split function with train size 80%, test size 20%, and random state = 41"
      ]
    },
    {
      "cell_type": "code",
      "execution_count": null,
      "id": "51a877f1",
      "metadata": {
        "execution": {
          "iopub.execute_input": "2023-02-08T22:39:01.196529Z",
          "iopub.status.busy": "2023-02-08T22:39:01.196034Z",
          "iopub.status.idle": "2023-02-08T22:39:01.206142Z",
          "shell.execute_reply": "2023-02-08T22:39:01.204814Z"
        },
        "papermill": {
          "duration": 0.024329,
          "end_time": "2023-02-08T22:39:01.209198",
          "exception": false,
          "start_time": "2023-02-08T22:39:01.184869",
          "status": "completed"
        },
        "tags": [],
        "id": "51a877f1"
      },
      "outputs": [],
      "source": [
        "from sklearn.model_selection import train_test_split\n",
        "X_train, X_test, y_train, y_test = train_test_split(X, label_data, test_size = 0.2, random_state =41)"
      ]
    },
    {
      "cell_type": "code",
      "execution_count": null,
      "id": "173dd76c",
      "metadata": {
        "execution": {
          "iopub.execute_input": "2023-02-08T22:39:01.229831Z",
          "iopub.status.busy": "2023-02-08T22:39:01.229199Z",
          "iopub.status.idle": "2023-02-08T22:39:01.235083Z",
          "shell.execute_reply": "2023-02-08T22:39:01.233799Z"
        },
        "papermill": {
          "duration": 0.01907,
          "end_time": "2023-02-08T22:39:01.237602",
          "exception": false,
          "start_time": "2023-02-08T22:39:01.218532",
          "status": "completed"
        },
        "tags": [],
        "id": "173dd76c"
      },
      "outputs": [],
      "source": [
        "import os\n",
        "os.environ['TF_XLA_FLAGS'] = '--tf_xla_enable_xla_devices'"
      ]
    },
    {
      "cell_type": "code",
      "execution_count": null,
      "id": "eb3ff3f6",
      "metadata": {
        "execution": {
          "iopub.execute_input": "2023-02-08T22:39:01.259827Z",
          "iopub.status.busy": "2023-02-08T22:39:01.258969Z",
          "iopub.status.idle": "2023-02-08T22:39:01.628536Z",
          "shell.execute_reply": "2023-02-08T22:39:01.627291Z"
        },
        "papermill": {
          "duration": 0.383761,
          "end_time": "2023-02-08T22:39:01.631291",
          "exception": false,
          "start_time": "2023-02-08T22:39:01.247530",
          "status": "completed"
        },
        "tags": [],
        "id": "eb3ff3f6",
        "outputId": "7ed64cee-6a72-422c-80f1-78c5471f4da3"
      },
      "outputs": [
        {
          "name": "stderr",
          "output_type": "stream",
          "text": [
            "2023-02-08 22:39:01.336770: I tensorflow/compiler/xla/service/service.cc:171] XLA service 0x564b119f2530 initialized for platform Host (this does not guarantee that XLA will be used). Devices:\n",
            "2023-02-08 22:39:01.336844: I tensorflow/compiler/xla/service/service.cc:179]   StreamExecutor device (0): Host, Default Version\n",
            "2023-02-08 22:39:01.338702: I tensorflow/core/common_runtime/process_util.cc:146] Creating new thread pool with default inter op setting: 2. Tune using inter_op_parallelism_threads for best performance.\n"
          ]
        }
      ],
      "source": [
        "from keras.layers import Dense, Input, LSTM, Embedding, Dropout\n",
        "from keras.models import Model, Sequential\n",
        "\n",
        "max_features = 30000\n",
        "embed_dim = 32\n",
        "\n",
        "lstm_model = Sequential()\n",
        "lstm_model.add(Embedding(max_features, embed_dim, input_length = X_train.shape[1]))\n",
        "#lstm_model.add(Dropout(0.2))\n",
        "lstm_model.add(LSTM(units=60, input_shape=(X_train.shape[1], 1), activation='relu', return_sequences=False))\n",
        "lstm_model.add(Dropout(0.2))\n",
        "lstm_model.add(Dense(1, activation='sigmoid'))\n",
        "\n",
        "lstm_model.compile(loss = 'binary_crossentropy', optimizer='adam' , metrics = ['accuracy'])"
      ]
    },
    {
      "cell_type": "code",
      "execution_count": null,
      "id": "1d89a0f4",
      "metadata": {
        "execution": {
          "iopub.execute_input": "2023-02-08T22:39:01.651228Z",
          "iopub.status.busy": "2023-02-08T22:39:01.650757Z",
          "iopub.status.idle": "2023-02-08T22:40:25.535802Z",
          "shell.execute_reply": "2023-02-08T22:40:25.533992Z"
        },
        "papermill": {
          "duration": 83.898846,
          "end_time": "2023-02-08T22:40:25.538856",
          "exception": false,
          "start_time": "2023-02-08T22:39:01.640010",
          "status": "completed"
        },
        "tags": [],
        "id": "1d89a0f4",
        "outputId": "56b37aae-295f-42af-d766-a6b6e92489e6"
      },
      "outputs": [
        {
          "name": "stderr",
          "output_type": "stream",
          "text": [
            "2023-02-08 22:39:01.723770: I tensorflow/compiler/mlir/mlir_graph_optimization_pass.cc:185] None of the MLIR Optimization Passes are enabled (registered 2)\n"
          ]
        },
        {
          "name": "stdout",
          "output_type": "stream",
          "text": [
            "Epoch 1/10\n",
            "188/188 [==============================] - 9s 38ms/step - loss: 0.5807 - accuracy: 0.6845 - val_loss: 0.5254 - val_accuracy: 0.7993\n",
            "Epoch 2/10\n",
            "188/188 [==============================] - 6s 33ms/step - loss: 0.4251 - accuracy: 0.8210 - val_loss: 0.4423 - val_accuracy: 0.8093\n",
            "Epoch 3/10\n",
            "188/188 [==============================] - 7s 37ms/step - loss: 0.3432 - accuracy: 0.8527 - val_loss: 0.5523 - val_accuracy: 0.8093\n",
            "Epoch 4/10\n",
            "188/188 [==============================] - 6s 34ms/step - loss: 0.2998 - accuracy: 0.8740 - val_loss: 0.6423 - val_accuracy: 0.7967\n",
            "Epoch 5/10\n",
            "188/188 [==============================] - 6s 33ms/step - loss: 0.2730 - accuracy: 0.8840 - val_loss: 1.4305 - val_accuracy: 0.7927\n",
            "Epoch 6/10\n",
            "188/188 [==============================] - 6s 34ms/step - loss: 0.2409 - accuracy: 0.9003 - val_loss: 1.8309 - val_accuracy: 0.7814\n",
            "Epoch 7/10\n",
            "188/188 [==============================] - 7s 38ms/step - loss: 0.2194 - accuracy: 0.9046 - val_loss: 1.9260 - val_accuracy: 0.7834\n",
            "Epoch 8/10\n",
            "188/188 [==============================] - 7s 35ms/step - loss: 0.2078 - accuracy: 0.9141 - val_loss: 2.7902 - val_accuracy: 0.7821\n",
            "Epoch 9/10\n",
            "188/188 [==============================] - 6s 33ms/step - loss: 0.1852 - accuracy: 0.9204 - val_loss: 5.2068 - val_accuracy: 0.7688\n",
            "Epoch 10/10\n",
            "188/188 [==============================] - 6s 34ms/step - loss: 0.1627 - accuracy: 0.9302 - val_loss: 5.7354 - val_accuracy: 0.7748\n"
          ]
        },
        {
          "data": {
            "text/plain": [
              "<keras.callbacks.History at 0x7efdc4353bd0>"
            ]
          },
          "execution_count": 13,
          "metadata": {},
          "output_type": "execute_result"
        }
      ],
      "source": [
        "lstm_model.fit(X_train, y_train, epochs = 10, batch_size=32, validation_data=(X_test, y_test))"
      ]
    },
    {
      "cell_type": "code",
      "execution_count": null,
      "id": "54f81213",
      "metadata": {
        "execution": {
          "iopub.execute_input": "2023-02-08T22:40:25.692297Z",
          "iopub.status.busy": "2023-02-08T22:40:25.691142Z",
          "iopub.status.idle": "2023-02-08T22:40:26.922173Z",
          "shell.execute_reply": "2023-02-08T22:40:26.920534Z"
        },
        "papermill": {
          "duration": 1.310349,
          "end_time": "2023-02-08T22:40:26.925054",
          "exception": false,
          "start_time": "2023-02-08T22:40:25.614705",
          "status": "completed"
        },
        "tags": [],
        "id": "54f81213",
        "outputId": "bbc0f358-0b52-4b6d-a136-bb79ea2cbf31"
      },
      "outputs": [
        {
          "name": "stdout",
          "output_type": "stream",
          "text": [
            "Accuracy: 77.48%\n"
          ]
        }
      ],
      "source": [
        "y_pred = lstm_model.predict(X_test).round()\n",
        "# Final evaluation of the model\n",
        "scores = lstm_model.evaluate(X_test, y_test, verbose=0)\n",
        "print(\"Accuracy: %.2f%%\" % (scores[1]*100))"
      ]
    },
    {
      "cell_type": "code",
      "execution_count": null,
      "id": "8e2a6cd8",
      "metadata": {
        "execution": {
          "iopub.execute_input": "2023-02-08T22:40:27.075050Z",
          "iopub.status.busy": "2023-02-08T22:40:27.074389Z",
          "iopub.status.idle": "2023-02-08T22:40:28.966019Z",
          "shell.execute_reply": "2023-02-08T22:40:28.964689Z"
        },
        "papermill": {
          "duration": 1.970168,
          "end_time": "2023-02-08T22:40:28.968879",
          "exception": false,
          "start_time": "2023-02-08T22:40:26.998711",
          "status": "completed"
        },
        "tags": [],
        "id": "8e2a6cd8",
        "outputId": "bd843ec2-9550-4a79-fea2-bd169c51ddaf"
      },
      "outputs": [
        {
          "data": {
            "text/plain": [
              "95"
            ]
          },
          "execution_count": 15,
          "metadata": {},
          "output_type": "execute_result"
        }
      ],
      "source": [
        "from sklearn import metrics\n",
        "train_accuracy = round(metrics.accuracy_score(y_train, lstm_model.predict(X_train).round())*100)\n",
        "train_accuracy"
      ]
    },
    {
      "cell_type": "code",
      "execution_count": null,
      "id": "d0cd8c4a",
      "metadata": {
        "execution": {
          "iopub.execute_input": "2023-02-08T22:40:29.117657Z",
          "iopub.status.busy": "2023-02-08T22:40:29.116713Z",
          "iopub.status.idle": "2023-02-08T22:40:29.140834Z",
          "shell.execute_reply": "2023-02-08T22:40:29.139429Z"
        },
        "papermill": {
          "duration": 0.101609,
          "end_time": "2023-02-08T22:40:29.143395",
          "exception": false,
          "start_time": "2023-02-08T22:40:29.041786",
          "status": "completed"
        },
        "tags": [],
        "id": "d0cd8c4a",
        "outputId": "7d7255c8-0b35-424b-be32-93b1ad0d2733"
      },
      "outputs": [
        {
          "name": "stdout",
          "output_type": "stream",
          "text": [
            "Accuracy of the model: 77.5%\n",
            "Precision Score of the model: 77.4%\n",
            "Recall Score of the model: 77.5%\n",
            "--------------------------------------------------\n",
            "              precision    recall  f1-score   support\n",
            "\n",
            "           0       0.79      0.83      0.81       856\n",
            "           1       0.76      0.70      0.73       649\n",
            "\n",
            "    accuracy                           0.77      1505\n",
            "   macro avg       0.77      0.77      0.77      1505\n",
            "weighted avg       0.77      0.77      0.77      1505\n",
            "\n"
          ]
        }
      ],
      "source": [
        "accuracy = round(accuracy_score(y_test,y_pred),3)\n",
        "precision = round(precision_score(y_test,y_pred,average='weighted'),3)\n",
        "recall = round(recall_score(y_test,y_pred,average='weighted'),3)\n",
        "\n",
        "print(f'Accuracy of the model: {np.round(accuracy*100,2)}%')\n",
        "print(f'Precision Score of the model: {np.round(precision*100,2)}%')\n",
        "print(f'Recall Score of the model: {np.round(recall*100,2)}%')\n",
        "print('-'*50)\n",
        "print(classification_report(y_test,y_pred))"
      ]
    },
    {
      "cell_type": "markdown",
      "id": "4dd8b5f9",
      "metadata": {
        "papermill": {
          "duration": 0.073984,
          "end_time": "2023-02-08T22:40:29.289284",
          "exception": false,
          "start_time": "2023-02-08T22:40:29.215300",
          "status": "completed"
        },
        "tags": [],
        "id": "4dd8b5f9"
      },
      "source": [
        "# Evaluation the model\n",
        "In this section, we will use the test file for model evaluation."
      ]
    },
    {
      "cell_type": "code",
      "execution_count": null,
      "id": "46fd8cc9",
      "metadata": {
        "execution": {
          "iopub.execute_input": "2023-02-08T22:40:29.439101Z",
          "iopub.status.busy": "2023-02-08T22:40:29.438386Z",
          "iopub.status.idle": "2023-02-08T22:40:29.480747Z",
          "shell.execute_reply": "2023-02-08T22:40:29.479443Z"
        },
        "papermill": {
          "duration": 0.123736,
          "end_time": "2023-02-08T22:40:29.483390",
          "exception": false,
          "start_time": "2023-02-08T22:40:29.359654",
          "status": "completed"
        },
        "tags": [],
        "id": "46fd8cc9",
        "outputId": "da414410-8a6c-464f-8738-5595f9ada909"
      },
      "outputs": [
        {
          "data": {
            "text/html": [
              "<div>\n",
              "<style scoped>\n",
              "    .dataframe tbody tr th:only-of-type {\n",
              "        vertical-align: middle;\n",
              "    }\n",
              "\n",
              "    .dataframe tbody tr th {\n",
              "        vertical-align: top;\n",
              "    }\n",
              "\n",
              "    .dataframe thead th {\n",
              "        text-align: right;\n",
              "    }\n",
              "</style>\n",
              "<table border=\"1\" class=\"dataframe\">\n",
              "  <thead>\n",
              "    <tr style=\"text-align: right;\">\n",
              "      <th></th>\n",
              "      <th>id</th>\n",
              "      <th>keyword</th>\n",
              "      <th>location</th>\n",
              "      <th>text</th>\n",
              "    </tr>\n",
              "  </thead>\n",
              "  <tbody>\n",
              "    <tr>\n",
              "      <th>0</th>\n",
              "      <td>0</td>\n",
              "      <td>NaN</td>\n",
              "      <td>NaN</td>\n",
              "      <td>Just happened a terrible car crash</td>\n",
              "    </tr>\n",
              "    <tr>\n",
              "      <th>1</th>\n",
              "      <td>2</td>\n",
              "      <td>NaN</td>\n",
              "      <td>NaN</td>\n",
              "      <td>Heard about #earthquake is different cities, s...</td>\n",
              "    </tr>\n",
              "    <tr>\n",
              "      <th>2</th>\n",
              "      <td>3</td>\n",
              "      <td>NaN</td>\n",
              "      <td>NaN</td>\n",
              "      <td>there is a forest fire at spot pond, geese are...</td>\n",
              "    </tr>\n",
              "    <tr>\n",
              "      <th>3</th>\n",
              "      <td>9</td>\n",
              "      <td>NaN</td>\n",
              "      <td>NaN</td>\n",
              "      <td>Apocalypse lighting. #Spokane #wildfires</td>\n",
              "    </tr>\n",
              "    <tr>\n",
              "      <th>4</th>\n",
              "      <td>11</td>\n",
              "      <td>NaN</td>\n",
              "      <td>NaN</td>\n",
              "      <td>Typhoon Soudelor kills 28 in China and Taiwan</td>\n",
              "    </tr>\n",
              "  </tbody>\n",
              "</table>\n",
              "</div>"
            ],
            "text/plain": [
              "   id keyword location                                               text\n",
              "0   0     NaN      NaN                 Just happened a terrible car crash\n",
              "1   2     NaN      NaN  Heard about #earthquake is different cities, s...\n",
              "2   3     NaN      NaN  there is a forest fire at spot pond, geese are...\n",
              "3   9     NaN      NaN           Apocalypse lighting. #Spokane #wildfires\n",
              "4  11     NaN      NaN      Typhoon Soudelor kills 28 in China and Taiwan"
            ]
          },
          "execution_count": 17,
          "metadata": {},
          "output_type": "execute_result"
        }
      ],
      "source": [
        "test_data = pd.read_csv('/kaggle/input/nlp-getting-started/test.csv')\n",
        "test_data.head()"
      ]
    },
    {
      "cell_type": "code",
      "execution_count": null,
      "id": "baab164d",
      "metadata": {
        "execution": {
          "iopub.execute_input": "2023-02-08T22:40:29.631940Z",
          "iopub.status.busy": "2023-02-08T22:40:29.630905Z",
          "iopub.status.idle": "2023-02-08T22:40:29.647856Z",
          "shell.execute_reply": "2023-02-08T22:40:29.646289Z"
        },
        "papermill": {
          "duration": 0.094057,
          "end_time": "2023-02-08T22:40:29.650923",
          "exception": false,
          "start_time": "2023-02-08T22:40:29.556866",
          "status": "completed"
        },
        "tags": [],
        "id": "baab164d",
        "outputId": "2fd5ecc8-fb8b-47e9-c471-fca05c58d8d2"
      },
      "outputs": [
        {
          "data": {
            "text/html": [
              "<div>\n",
              "<style scoped>\n",
              "    .dataframe tbody tr th:only-of-type {\n",
              "        vertical-align: middle;\n",
              "    }\n",
              "\n",
              "    .dataframe tbody tr th {\n",
              "        vertical-align: top;\n",
              "    }\n",
              "\n",
              "    .dataframe thead th {\n",
              "        text-align: right;\n",
              "    }\n",
              "</style>\n",
              "<table border=\"1\" class=\"dataframe\">\n",
              "  <thead>\n",
              "    <tr style=\"text-align: right;\">\n",
              "      <th></th>\n",
              "      <th>id</th>\n",
              "    </tr>\n",
              "  </thead>\n",
              "  <tbody>\n",
              "    <tr>\n",
              "      <th>0</th>\n",
              "      <td>0</td>\n",
              "    </tr>\n",
              "    <tr>\n",
              "      <th>1</th>\n",
              "      <td>2</td>\n",
              "    </tr>\n",
              "    <tr>\n",
              "      <th>2</th>\n",
              "      <td>3</td>\n",
              "    </tr>\n",
              "    <tr>\n",
              "      <th>3</th>\n",
              "      <td>9</td>\n",
              "    </tr>\n",
              "    <tr>\n",
              "      <th>4</th>\n",
              "      <td>11</td>\n",
              "    </tr>\n",
              "    <tr>\n",
              "      <th>...</th>\n",
              "      <td>...</td>\n",
              "    </tr>\n",
              "    <tr>\n",
              "      <th>3258</th>\n",
              "      <td>10861</td>\n",
              "    </tr>\n",
              "    <tr>\n",
              "      <th>3259</th>\n",
              "      <td>10865</td>\n",
              "    </tr>\n",
              "    <tr>\n",
              "      <th>3260</th>\n",
              "      <td>10868</td>\n",
              "    </tr>\n",
              "    <tr>\n",
              "      <th>3261</th>\n",
              "      <td>10874</td>\n",
              "    </tr>\n",
              "    <tr>\n",
              "      <th>3262</th>\n",
              "      <td>10875</td>\n",
              "    </tr>\n",
              "  </tbody>\n",
              "</table>\n",
              "<p>3263 rows × 1 columns</p>\n",
              "</div>"
            ],
            "text/plain": [
              "         id\n",
              "0         0\n",
              "1         2\n",
              "2         3\n",
              "3         9\n",
              "4        11\n",
              "...     ...\n",
              "3258  10861\n",
              "3259  10865\n",
              "3260  10868\n",
              "3261  10874\n",
              "3262  10875\n",
              "\n",
              "[3263 rows x 1 columns]"
            ]
          },
          "execution_count": 18,
          "metadata": {},
          "output_type": "execute_result"
        }
      ],
      "source": [
        "data = test_data.drop(['keyword', 'location'], axis=1)\n",
        "data.shape\n",
        "id = data['id']\n",
        "id = id.to_frame()\n",
        "id = pd.DataFrame(id)\n",
        "id"
      ]
    },
    {
      "cell_type": "code",
      "execution_count": null,
      "id": "735e1af9",
      "metadata": {
        "execution": {
          "iopub.execute_input": "2023-02-08T22:40:29.797650Z",
          "iopub.status.busy": "2023-02-08T22:40:29.796873Z",
          "iopub.status.idle": "2023-02-08T22:40:29.808709Z",
          "shell.execute_reply": "2023-02-08T22:40:29.807307Z"
        },
        "papermill": {
          "duration": 0.087104,
          "end_time": "2023-02-08T22:40:29.811537",
          "exception": false,
          "start_time": "2023-02-08T22:40:29.724433",
          "status": "completed"
        },
        "tags": [],
        "id": "735e1af9"
      },
      "outputs": [],
      "source": [
        "data.isnull().sum()\n",
        "data = data.drop_duplicates()"
      ]
    },
    {
      "cell_type": "code",
      "execution_count": null,
      "id": "b02ceadc",
      "metadata": {
        "execution": {
          "iopub.execute_input": "2023-02-08T22:40:29.956879Z",
          "iopub.status.busy": "2023-02-08T22:40:29.955396Z",
          "iopub.status.idle": "2023-02-08T22:40:31.165532Z",
          "shell.execute_reply": "2023-02-08T22:40:31.163985Z"
        },
        "papermill": {
          "duration": 1.287155,
          "end_time": "2023-02-08T22:40:31.168505",
          "exception": false,
          "start_time": "2023-02-08T22:40:29.881350",
          "status": "completed"
        },
        "tags": [],
        "id": "b02ceadc",
        "outputId": "d53bf127-f45d-448f-cdab-a4d50d0a4ebf"
      },
      "outputs": [
        {
          "data": {
            "text/plain": [
              "0                                happen terribl car crash\n",
              "1           heard earthquak differ citi stay safe everyon\n",
              "2       forest fire spot pond gee flee across street c...\n",
              "3                          apocalyps light spokan wildfir\n",
              "4                      typhoon soudelor kill china taiwan\n",
              "                              ...                        \n",
              "3258    earthquak safeti lo angel  ûò safeti fasten xrwn\n",
              "3259    storm ri wors last hurrican cityampoth hardest...\n",
              "3260                            green line derail chicago\n",
              "3261                  meg issu hazard weather outlook hwo\n",
              "3262      cityofcalgari activ municip emerg plan yycstorm\n",
              "Name: text, Length: 3263, dtype: object"
            ]
          },
          "execution_count": 20,
          "metadata": {},
          "output_type": "execute_result"
        }
      ],
      "source": [
        "test_data = test_data['text'].apply(preprocess)\n",
        "test_data"
      ]
    },
    {
      "cell_type": "code",
      "execution_count": null,
      "id": "250e66d4",
      "metadata": {
        "execution": {
          "iopub.execute_input": "2023-02-08T22:40:31.318752Z",
          "iopub.status.busy": "2023-02-08T22:40:31.317927Z",
          "iopub.status.idle": "2023-02-08T22:40:31.391614Z",
          "shell.execute_reply": "2023-02-08T22:40:31.389766Z"
        },
        "papermill": {
          "duration": 0.150481,
          "end_time": "2023-02-08T22:40:31.394783",
          "exception": false,
          "start_time": "2023-02-08T22:40:31.244302",
          "status": "completed"
        },
        "tags": [],
        "id": "250e66d4"
      },
      "outputs": [],
      "source": [
        "test_token = tokenizer.texts_to_sequences(test_data.values)\n",
        "test_token = pad_sequences(test_token, maxlen =1) # to make the whole text with the same size."
      ]
    },
    {
      "cell_type": "code",
      "execution_count": null,
      "id": "e32cc98e",
      "metadata": {
        "execution": {
          "iopub.execute_input": "2023-02-08T22:40:31.542826Z",
          "iopub.status.busy": "2023-02-08T22:40:31.542359Z",
          "iopub.status.idle": "2023-02-08T22:40:32.058311Z",
          "shell.execute_reply": "2023-02-08T22:40:32.057274Z"
        },
        "papermill": {
          "duration": 0.591564,
          "end_time": "2023-02-08T22:40:32.061167",
          "exception": false,
          "start_time": "2023-02-08T22:40:31.469603",
          "status": "completed"
        },
        "tags": [],
        "id": "e32cc98e"
      },
      "outputs": [],
      "source": [
        "final_pred = lstm_model.predict(test_token)"
      ]
    },
    {
      "cell_type": "code",
      "execution_count": null,
      "id": "3a996cbc",
      "metadata": {
        "execution": {
          "iopub.execute_input": "2023-02-08T22:40:32.203892Z",
          "iopub.status.busy": "2023-02-08T22:40:32.203452Z",
          "iopub.status.idle": "2023-02-08T22:40:32.212445Z",
          "shell.execute_reply": "2023-02-08T22:40:32.210973Z"
        },
        "papermill": {
          "duration": 0.083116,
          "end_time": "2023-02-08T22:40:32.215045",
          "exception": false,
          "start_time": "2023-02-08T22:40:32.131929",
          "status": "completed"
        },
        "tags": [],
        "id": "3a996cbc",
        "outputId": "2eef7984-ac83-48ea-9c27-6f3bfefe379f"
      },
      "outputs": [
        {
          "data": {
            "text/plain": [
              "array([[1],\n",
              "       [1],\n",
              "       [0],\n",
              "       ...,\n",
              "       [1],\n",
              "       [1],\n",
              "       [0]])"
            ]
          },
          "execution_count": 23,
          "metadata": {},
          "output_type": "execute_result"
        }
      ],
      "source": [
        "final_pred = np.round(final_pred).astype(int)\n",
        "final_pred"
      ]
    },
    {
      "cell_type": "code",
      "execution_count": null,
      "id": "de4701fd",
      "metadata": {
        "execution": {
          "iopub.execute_input": "2023-02-08T22:40:32.356960Z",
          "iopub.status.busy": "2023-02-08T22:40:32.356473Z",
          "iopub.status.idle": "2023-02-08T22:40:32.375620Z",
          "shell.execute_reply": "2023-02-08T22:40:32.374409Z"
        },
        "papermill": {
          "duration": 0.093517,
          "end_time": "2023-02-08T22:40:32.378463",
          "exception": false,
          "start_time": "2023-02-08T22:40:32.284946",
          "status": "completed"
        },
        "tags": [],
        "id": "de4701fd",
        "outputId": "4e00f884-bcd2-4d0b-c1e6-e54652514afc"
      },
      "outputs": [
        {
          "data": {
            "text/html": [
              "<div>\n",
              "<style scoped>\n",
              "    .dataframe tbody tr th:only-of-type {\n",
              "        vertical-align: middle;\n",
              "    }\n",
              "\n",
              "    .dataframe tbody tr th {\n",
              "        vertical-align: top;\n",
              "    }\n",
              "\n",
              "    .dataframe thead th {\n",
              "        text-align: right;\n",
              "    }\n",
              "</style>\n",
              "<table border=\"1\" class=\"dataframe\">\n",
              "  <thead>\n",
              "    <tr style=\"text-align: right;\">\n",
              "      <th></th>\n",
              "      <th>id</th>\n",
              "      <th>target</th>\n",
              "    </tr>\n",
              "  </thead>\n",
              "  <tbody>\n",
              "    <tr>\n",
              "      <th>0</th>\n",
              "      <td>0</td>\n",
              "      <td>1</td>\n",
              "    </tr>\n",
              "    <tr>\n",
              "      <th>1</th>\n",
              "      <td>2</td>\n",
              "      <td>1</td>\n",
              "    </tr>\n",
              "    <tr>\n",
              "      <th>2</th>\n",
              "      <td>3</td>\n",
              "      <td>0</td>\n",
              "    </tr>\n",
              "    <tr>\n",
              "      <th>3</th>\n",
              "      <td>9</td>\n",
              "      <td>1</td>\n",
              "    </tr>\n",
              "    <tr>\n",
              "      <th>4</th>\n",
              "      <td>11</td>\n",
              "      <td>1</td>\n",
              "    </tr>\n",
              "    <tr>\n",
              "      <th>...</th>\n",
              "      <td>...</td>\n",
              "      <td>...</td>\n",
              "    </tr>\n",
              "    <tr>\n",
              "      <th>3258</th>\n",
              "      <td>10861</td>\n",
              "      <td>0</td>\n",
              "    </tr>\n",
              "    <tr>\n",
              "      <th>3259</th>\n",
              "      <td>10865</td>\n",
              "      <td>1</td>\n",
              "    </tr>\n",
              "    <tr>\n",
              "      <th>3260</th>\n",
              "      <td>10868</td>\n",
              "      <td>1</td>\n",
              "    </tr>\n",
              "    <tr>\n",
              "      <th>3261</th>\n",
              "      <td>10874</td>\n",
              "      <td>1</td>\n",
              "    </tr>\n",
              "    <tr>\n",
              "      <th>3262</th>\n",
              "      <td>10875</td>\n",
              "      <td>0</td>\n",
              "    </tr>\n",
              "  </tbody>\n",
              "</table>\n",
              "<p>3263 rows × 2 columns</p>\n",
              "</div>"
            ],
            "text/plain": [
              "         id  target\n",
              "0         0       1\n",
              "1         2       1\n",
              "2         3       0\n",
              "3         9       1\n",
              "4        11       1\n",
              "...     ...     ...\n",
              "3258  10861       0\n",
              "3259  10865       1\n",
              "3260  10868       1\n",
              "3261  10874       1\n",
              "3262  10875       0\n",
              "\n",
              "[3263 rows x 2 columns]"
            ]
          },
          "execution_count": 24,
          "metadata": {},
          "output_type": "execute_result"
        }
      ],
      "source": [
        "id = pd.DataFrame(id, columns=['id'])\n",
        "final_pred = pd.DataFrame(final_pred, columns=['target'])\n",
        "submission = pd.concat([id, final_pred], axis=1, join='inner')\n",
        "submission"
      ]
    },
    {
      "cell_type": "code",
      "execution_count": null,
      "id": "20d245bd",
      "metadata": {
        "execution": {
          "iopub.execute_input": "2023-02-08T22:40:32.521982Z",
          "iopub.status.busy": "2023-02-08T22:40:32.521330Z",
          "iopub.status.idle": "2023-02-08T22:40:32.535089Z",
          "shell.execute_reply": "2023-02-08T22:40:32.533927Z"
        },
        "papermill": {
          "duration": 0.089241,
          "end_time": "2023-02-08T22:40:32.538181",
          "exception": false,
          "start_time": "2023-02-08T22:40:32.448940",
          "status": "completed"
        },
        "tags": [],
        "id": "20d245bd"
      },
      "outputs": [],
      "source": [
        "submission.to_csv('submission.csv', index=False)"
      ]
    }
  ],
  "metadata": {
    "kernelspec": {
      "display_name": "Python 3",
      "language": "python",
      "name": "python3"
    },
    "language_info": {
      "codemirror_mode": {
        "name": "ipython",
        "version": 3
      },
      "file_extension": ".py",
      "mimetype": "text/x-python",
      "name": "python",
      "nbconvert_exporter": "python",
      "pygments_lexer": "ipython3",
      "version": "3.7.12"
    },
    "papermill": {
      "default_parameters": {},
      "duration": 120.376013,
      "end_time": "2023-02-08T22:40:35.442113",
      "environment_variables": {},
      "exception": null,
      "input_path": "__notebook__.ipynb",
      "output_path": "__notebook__.ipynb",
      "parameters": {},
      "start_time": "2023-02-08T22:38:35.066100",
      "version": "2.3.4"
    },
    "colab": {
      "provenance": [],
      "include_colab_link": true
    }
  },
  "nbformat": 4,
  "nbformat_minor": 5
}